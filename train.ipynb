{
 "cells": [
  {
   "cell_type": "code",
   "execution_count": 1,
   "metadata": {},
   "outputs": [],
   "source": [
    "%matplotlib inline\n",
    "import torch\n",
    "import pandas as pd\n",
    "import numpy as np\n",
    "from sklearn.preprocessing import LabelEncoder\n",
    "import re\n",
    "from sklearn.model_selection import train_test_split\n",
    "from transformers import BertTokenizer\n",
    "from transformers import BertForSequenceClassification, AdamW, BertConfig\n",
    "from torch.utils.data import TensorDataset, DataLoader, RandomSampler, SequentialSampler\n",
    "\n",
    "import torch.nn as nn\n",
    "from torch.utils.data import Dataset, DataLoader, random_split\n",
    "from torch.utils.data.sampler import SubsetRandomSampler\n",
    "import transformers\n",
    "from transformers import RobertaTokenizer, BertTokenizer, RobertaModel, BertModel, AdamW# get_linear_schedule_with_warmup\n",
    "from transformers import get_linear_schedule_with_warmup\n",
    "import time\n",
    "\n",
    "from utils import *\n",
    "from Custom_Dataset_Class import *\n",
    "from BertFineTuned import *\n",
    "from LongTerm import *"
   ]
  },
  {
   "cell_type": "code",
   "execution_count": null,
   "metadata": {},
   "outputs": [],
   "source": []
  },
  {
   "cell_type": "code",
   "execution_count": 2,
   "metadata": {},
   "outputs": [
    {
     "name": "stdout",
     "output_type": "stream",
     "text": [
      "There are 1 GPU(s) available.\n",
      "We will use the GPU: Quadro T2000\n"
     ]
    }
   ],
   "source": [
    "# If there's a GPU available...\n",
    "if torch.cuda.is_available():    \n",
    "\n",
    "    # Tell PyTorch to use the GPU.    \n",
    "    device = torch.device(\"cuda\")\n",
    "\n",
    "    print('There are %d GPU(s) available.' % torch.cuda.device_count())\n",
    "\n",
    "    print('We will use the GPU:', torch.cuda.get_device_name(0))\n",
    "\n",
    "# If not...\n",
    "else:\n",
    "    print('No GPU available, using the CPU instead.')\n",
    "    device = torch.device(\"cpu\")"
   ]
  },
  {
   "cell_type": "markdown",
   "metadata": {},
   "source": [
    "# Fine Tunning of BERT"
   ]
  },
  {
   "cell_type": "code",
   "execution_count": 3,
   "metadata": {
    "scrolled": true
   },
   "outputs": [
    {
     "name": "stdout",
     "output_type": "stream",
     "text": [
      "Loading BERT tokenizer...\n",
      "Nettoyage des données\n",
      "\n",
      "=============== EPOCH 1 / 3 ===============\n",
      "\n",
      "___ batch index = 0 / 1715 (0.00%), loss = 2.1133, time = 7.87 secondes ___\n",
      "___ batch index = 250 / 1715 (14.58%), loss = 0.9814, time = 2239.74 secondes ___\n",
      "___ batch index = 500 / 1715 (29.15%), loss = 0.7243, time = 2250.50 secondes ___\n",
      "___ batch index = 750 / 1715 (43.73%), loss = 0.7141, time = 2244.55 secondes ___\n",
      "___ batch index = 1000 / 1715 (58.31%), loss = 0.7176, time = 2229.39 secondes ___\n",
      "___ batch index = 1250 / 1715 (72.89%), loss = 0.6091, time = 2227.16 secondes ___\n",
      "___ batch index = 1500 / 1715 (87.46%), loss = 0.6296, time = 2286.94 secondes ___\n",
      "\n",
      "*** avg_loss : 0.74, time : ~256.0 min (15387.14 sec) ***\n",
      "\n",
      "==> evaluation : avg_loss = 0.57, time : 1139.75 sec\n",
      "\n",
      "=====>\t{'accuracy': 0.8305219464806147, 'nb exemple': 11323, 'true_prediction': 9404, 'false_prediction': 1919}\n",
      "\t§§ model has been saved §§\n",
      "\n",
      "=============== EPOCH 2 / 3 ===============\n",
      "\n",
      "___ batch index = 0 / 1715 (0.00%), loss = 0.7763, time = 9.03 secondes ___\n",
      "___ batch index = 250 / 1715 (14.58%), loss = 0.4172, time = 2276.68 secondes ___\n",
      "___ batch index = 500 / 1715 (29.15%), loss = 0.4013, time = 2208.54 secondes ___\n",
      "___ batch index = 750 / 1715 (43.73%), loss = 0.5164, time = 2247.57 secondes ___\n",
      "___ batch index = 1000 / 1715 (58.31%), loss = 0.3513, time = 2242.20 secondes ___\n",
      "___ batch index = 1250 / 1715 (72.89%), loss = 0.3912, time = 2221.06 secondes ___\n",
      "___ batch index = 1500 / 1715 (87.46%), loss = 0.4333, time = 2225.57 secondes ___\n",
      "\n",
      "*** avg_loss : 0.46, time : ~531.0 min (31895.41 sec) ***\n",
      "\n",
      "==> evaluation : avg_loss = 0.53, time : 1196.12 sec\n",
      "\n",
      "=====>\t{'accuracy': 0.8423562660072419, 'nb exemple': 11323, 'true_prediction': 9538, 'false_prediction': 1785}\n",
      "\t§§ model has been saved §§\n",
      "\n",
      "=============== EPOCH 3 / 3 ===============\n",
      "\n",
      "___ batch index = 0 / 1715 (0.00%), loss = 0.6281, time = 9.97 secondes ___\n",
      "___ batch index = 250 / 1715 (14.58%), loss = 0.3662, time = 2308.33 secondes ___\n",
      "___ batch index = 500 / 1715 (29.15%), loss = 0.3202, time = 2205.63 secondes ___\n",
      "___ batch index = 750 / 1715 (43.73%), loss = 0.3887, time = 2218.47 secondes ___\n",
      "___ batch index = 1000 / 1715 (58.31%), loss = 0.3841, time = 2204.13 secondes ___\n",
      "___ batch index = 1250 / 1715 (72.89%), loss = 0.3003, time = 2223.93 secondes ___\n",
      "___ batch index = 1500 / 1715 (87.46%), loss = 0.3928, time = 2211.47 secondes ___\n",
      "\n",
      "*** avg_loss : 0.34, time : ~806.0 min (48411.16 sec) ***\n",
      "\n",
      "==> evaluation : avg_loss = 0.54, time : 1154.75 sec\n",
      "\n",
      "=====>\t{'accuracy': 0.8458888987017574, 'nb exemple': 11323, 'true_prediction': 9578, 'false_prediction': 1745}\n",
      "\t§§ model has been saved §§\n"
     ]
    }
   ],
   "source": [
    "TRAIN_BATCH_SIZE=8\n",
    "EPOCH=3\n",
    "validation_split = .2\n",
    "shuffle_dataset = True\n",
    "random_seed= 42\n",
    "MIN_LEN=249\n",
    "MAX_LEN = 100000\n",
    "CHUNK_LEN=200\n",
    "OVERLAP_LEN=50\n",
    "#MAX_LEN=10000000\n",
    "#MAX_SIZE_DATASET=1000\n",
    "\n",
    "print('Loading BERT tokenizer...')\n",
    "bert_tokenizer = BertTokenizer.from_pretrained('bert-base-uncased', do_lower_case=True)\n",
    "\n",
    "dataset=ConsumerComplaintsDataset1(\n",
    "    tokenizer=bert_tokenizer,\n",
    "    min_len=MIN_LEN,\n",
    "    max_len=MAX_LEN,\n",
    "    chunk_len=CHUNK_LEN,\n",
    "    #max_size_dataset=MAX_SIZE_DATASET,\n",
    "    overlap_len=OVERLAP_LEN)\n",
    "\n",
    "\n",
    "#train_size = int(0.8 * len(dataset))\n",
    "#test_size = len(dataset) - train_size\n",
    "#train_dataset, test_dataset = random_split(dataset, [train_size, test_size])\n",
    "\n",
    "# Creating data indices for training and validation splits:\n",
    "dataset_size = len(dataset)\n",
    "indices = list(range(dataset_size))\n",
    "split = int(np.floor(validation_split * dataset_size))\n",
    "if shuffle_dataset :\n",
    "    np.random.seed(random_seed)\n",
    "    np.random.shuffle(indices)\n",
    "train_indices, val_indices = indices[split:], indices[:split]\n",
    "\n",
    "# Creating PT data samplers and loaders:\n",
    "train_sampler = SubsetRandomSampler(train_indices)\n",
    "valid_sampler = SubsetRandomSampler(val_indices)\n",
    "\n",
    "train_data_loader=DataLoader(\n",
    "    dataset,\n",
    "    batch_size=TRAIN_BATCH_SIZE,\n",
    "    sampler=train_sampler,\n",
    "    collate_fn=my_collate1)\n",
    "\n",
    "valid_data_loader=DataLoader(\n",
    "    dataset,\n",
    "    batch_size=TRAIN_BATCH_SIZE,\n",
    "    sampler=valid_sampler,\n",
    "    collate_fn=my_collate1)\n",
    "\n",
    "\n",
    "device=\"cpu\"\n",
    "lr=3e-5#1e-3\n",
    "num_training_steps=int(len(dataset) / TRAIN_BATCH_SIZE * EPOCH)\n",
    "\n",
    "model=BertConsumerComplaints().to(device)\n",
    "optimizer=AdamW(model.parameters(), lr=lr)\n",
    "scheduler = get_linear_schedule_with_warmup(optimizer, \n",
    "                                        num_warmup_steps = 0,\n",
    "                                        num_training_steps = num_training_steps)\n",
    "val_losses=[]\n",
    "batches_losses=[]\n",
    "val_acc=[]\n",
    "for epoch in range(EPOCH):\n",
    "    t0 = time.time()    \n",
    "    print(f\"\\n=============== EPOCH {epoch+1} / {EPOCH} ===============\\n\")\n",
    "    batches_losses_tmp=train_loop_fun1(train_data_loader, model, optimizer, device)\n",
    "    epoch_loss=np.mean(batches_losses_tmp)\n",
    "    print(f\"\\n*** avg_loss : {epoch_loss:.2f}, time : ~{(time.time()-t0)//60} min ({time.time()-t0:.2f} sec) ***\\n\")\n",
    "    t1=time.time()\n",
    "    output, target, val_losses_tmp=eval_loop_fun1(valid_data_loader, model, device)\n",
    "    print(f\"==> evaluation : avg_loss = {np.mean(val_losses_tmp):.2f}, time : {time.time()-t1:.2f} sec\\n\")\n",
    "    tmp_evaluate=evaluate(target.reshape(-1), output)\n",
    "    print(f\"=====>\\t{tmp_evaluate}\")\n",
    "    val_acc.append(tmp_evaluate['accuracy'])\n",
    "    val_losses.append(val_losses_tmp)\n",
    "    batches_losses.append(batches_losses_tmp)\n",
    "    print(\"\\t§§ model has been saved §§\")\n",
    "    torch.save(model, f\"model1/model_epoch{epoch+1}.pt\")    "
   ]
  },
  {
   "cell_type": "code",
   "execution_count": 17,
   "metadata": {},
   "outputs": [
    {
     "data": {
      "text/plain": [
       "<matplotlib.axes._subplots.AxesSubplot at 0x7fb352d1ec90>"
      ]
     },
     "execution_count": 17,
     "metadata": {},
     "output_type": "execute_result"
    },
    {
     "data": {
      "image/png": "[encoded data removed]",
      "text/plain": [
       "<Figure size 432x288 with 1 Axes>"
      ]
     },
     "metadata": {
      "needs_background": "light"
     },
     "output_type": "display_data"
    }
   ],
   "source": [
    "pd.DataFrame(np.array([[np.mean(x) for x in batches_losses], [np.mean(x) for x in val_losses]]).T,\n",
    "                   columns=['Training', 'Validation']).plot(title=\"loss\")"
   ]
  },
  {
   "cell_type": "code",
   "execution_count": 21,
   "metadata": {},
   "outputs": [
    {
     "data": {
      "text/plain": [
       "<matplotlib.axes._subplots.AxesSubplot at 0x7fb3585aec90>"
      ]
     },
     "execution_count": 21,
     "metadata": {},
     "output_type": "execute_result"
    },
    {
     "data": {
      "image/png": "[encoded data removed]",
      "text/plain": [
       "<Figure size 432x288 with 1 Axes>"
      ]
     },
     "metadata": {
      "needs_background": "light"
     },
     "output_type": "display_data"
    }
   ],
   "source": [
    "pd.DataFrame(np.array(val_acc).T,\n",
    "                   columns=['Validation']).plot(title=\"accuracy\")"
   ]
  },
  {
   "cell_type": "markdown",
   "metadata": {},
   "source": [
    "# RNN classifier on top of the Fine Tuned Bert Model"
   ]
  },
  {
   "cell_type": "code",
   "execution_count": null,
   "metadata": {},
   "outputs": [
    {
     "name": "stdout",
     "output_type": "stream",
     "text": [
      "Loading BERT tokenizer...\n",
      "Nettoyage des données\n",
      "\n",
      "=============== EPOCH 1 / 3 ===============\n",
      "\n",
      "___ batch index = 0 / 4572 (0.00%), loss = 2.2945, time = 2.84 secondes ___\n",
      "___ batch index = 640 / 4572 (14.00%), loss = 0.5428, time = 2183.01 secondes ___\n",
      "___ batch index = 1280 / 4572 (28.00%), loss = 0.5160, time = 2271.89 secondes ___\n",
      "___ batch index = 1920 / 4572 (41.99%), loss = 0.3916, time = 2397.69 secondes ___\n",
      "___ batch index = 2560 / 4572 (55.99%), loss = 0.3850, time = 2242.30 secondes ___\n",
      "___ batch index = 3200 / 4572 (69.99%), loss = 0.5946, time = 2209.33 secondes ___\n",
      "___ batch index = 3840 / 4572 (83.99%), loss = 0.1687, time = 2334.60 secondes ___\n",
      "___ batch index = 4480 / 4572 (97.99%), loss = 0.3264, time = 2229.14 secondes ___\n",
      "\n",
      "*** avg_loss : 0.46, time : ~269.0 min (16172.74 sec) ***\n",
      "\n",
      "==> evaluation : avg_loss = 0.34, time : 1112.53 sec\n",
      "\n",
      "=====>\t{'accuracy': 0.911318553092182, 'nb exemple': 3428, 'true_prediction': 3124, 'false_prediction': 304}\n",
      "\t§§ the RNN model has been saved §§\n",
      "\n",
      "=============== EPOCH 2 / 3 ===============\n",
      "\n",
      "___ batch index = 0 / 4572 (0.00%), loss = 0.0575, time = 4.26 secondes ___\n",
      "___ batch index = 640 / 4572 (14.00%), loss = 0.2247, time = 2295.58 secondes ___\n",
      "___ batch index = 1280 / 4572 (28.00%), loss = 0.2754, time = 2416.55 secondes ___\n",
      "___ batch index = 1920 / 4572 (41.99%), loss = 0.0716, time = 2220.55 secondes ___\n",
      "___ batch index = 2560 / 4572 (55.99%), loss = 0.4056, time = 2213.29 secondes ___\n",
      "___ batch index = 3200 / 4572 (69.99%), loss = 0.2774, time = 2225.05 secondes ___\n",
      "___ batch index = 3840 / 4572 (83.99%), loss = 0.7631, time = 2215.79 secondes ___\n"
     ]
    }
   ],
   "source": [
    "TRAIN_BATCH_SIZE=3\n",
    "EPOCH=3\n",
    "validation_split = .2\n",
    "shuffle_dataset = True\n",
    "random_seed= 42\n",
    "MIN_LEN=249\n",
    "MAX_LEN = 100000\n",
    "CHUNK_LEN=200\n",
    "OVERLAP_LEN=50\n",
    "#MAX_LEN=10000000\n",
    "#MAX_SIZE_DATASET=1000\n",
    "\n",
    "print('Loading BERT tokenizer...')\n",
    "bert_tokenizer = BertTokenizer.from_pretrained('bert-base-uncased', do_lower_case=True)\n",
    "\n",
    "dataset=ConsumerComplaintsDataset1(\n",
    "    tokenizer=bert_tokenizer,\n",
    "    min_len=MIN_LEN,\n",
    "    max_len=MAX_LEN,\n",
    "    chunk_len=CHUNK_LEN,\n",
    "    #max_size_dataset=MAX_SIZE_DATASET,\n",
    "    overlap_len=OVERLAP_LEN)\n",
    "\n",
    "\n",
    "#train_size = int(0.8 * len(dataset))\n",
    "#test_size = len(dataset) - train_size\n",
    "#train_dataset, test_dataset = random_split(dataset, [train_size, test_size])\n",
    "\n",
    "# Creating data indices for training and validation splits:\n",
    "dataset_size = len(dataset)\n",
    "indices = list(range(dataset_size))\n",
    "split = int(np.floor(validation_split * dataset_size))\n",
    "if shuffle_dataset :\n",
    "    np.random.seed(random_seed)\n",
    "    np.random.shuffle(indices)\n",
    "train_indices, val_indices = indices[split:], indices[:split]\n",
    "\n",
    "# Creating PT data samplers and loaders:\n",
    "train_sampler = SubsetRandomSampler(train_indices)\n",
    "valid_sampler = SubsetRandomSampler(val_indices)\n",
    "\n",
    "train_data_loader=DataLoader(\n",
    "    dataset,\n",
    "    batch_size=TRAIN_BATCH_SIZE,\n",
    "    sampler=train_sampler,\n",
    "    collate_fn=my_collate1)\n",
    "\n",
    "valid_data_loader=DataLoader(\n",
    "    dataset,\n",
    "    batch_size=TRAIN_BATCH_SIZE,\n",
    "    sampler=valid_sampler,\n",
    "    collate_fn=my_collate1)\n",
    "\n",
    "\n",
    "device=\"cpu\"\n",
    "lr=3e-5#1e-3\n",
    "num_training_steps=int(len(dataset) / TRAIN_BATCH_SIZE * EPOCH)\n",
    "\n",
    "model=torch.load(\"model1/model_epoch2.pt\")\n",
    "\n",
    "model_rnn=LongTermModel(bertFineTuned=list(model.children())[0]).to(device)\n",
    "optimizer=AdamW(model_rnn.parameters(), lr=lr)\n",
    "scheduler = get_linear_schedule_with_warmup(optimizer, \n",
    "                                        num_warmup_steps = 0,\n",
    "                                        num_training_steps = num_training_steps)\n",
    "val_losses=[]\n",
    "batches_losses=[]\n",
    "val_acc=[]\n",
    "for epoch in range(EPOCH):\n",
    "    t0 = time.time()    \n",
    "    print(f\"\\n=============== EPOCH {epoch+1} / {EPOCH} ===============\\n\")\n",
    "    batches_losses_tmp=rnn_train_loop_fun1(train_data_loader, model_rnn, optimizer, device)\n",
    "    epoch_loss=np.mean(batches_losses_tmp)\n",
    "    print(f\"\\n*** avg_loss : {epoch_loss:.2f}, time : ~{(time.time()-t0)//60} min ({time.time()-t0:.2f} sec) ***\\n\")\n",
    "    t1=time.time()\n",
    "    output, target, val_losses_tmp=rnn_eval_loop_fun1(valid_data_loader, model_rnn, device)\n",
    "    print(f\"==> evaluation : avg_loss = {np.mean(val_losses_tmp):.2f}, time : {time.time()-t1:.2f} sec\\n\")    \n",
    "    tmp_evaluate=evaluate(target.reshape(-1), output)\n",
    "    print(f\"=====>\\t{tmp_evaluate}\")\n",
    "    val_acc.append(tmp_evaluate['accuracy'])\n",
    "    val_losses.append(val_losses_tmp)\n",
    "    batches_losses.append(batches_losses_tmp)\n",
    "    print(\"\\t§§ the RNN model has been saved §§\")\n",
    "    torch.save(model_rnn, f\"model_rnn1/model_rnn_epoch{epoch+1}.pt\")    "
   ]
  },
  {
   "cell_type": "code",
   "execution_count": null,
   "metadata": {},
   "outputs": [],
   "source": [
    "pd.DataFrame(np.array([[np.mean(x) for x in batches_losses], [np.mean(x) for x in val_losses]]).T,\n",
    "                   columns=['Training', 'Validation']).plot(title=\"loss\")"
   ]
  },
  {
   "cell_type": "code",
   "execution_count": null,
   "metadata": {},
   "outputs": [],
   "source": [
    "pd.DataFrame(np.array(val_acc).T,\n",
    "                   columns=['Validation']).plot(title=\"accuracy\")"
   ]
  },
  {
   "cell_type": "code",
   "execution_count": null,
   "metadata": {},
   "outputs": [],
   "source": []
  }
 ],
 "metadata": {
  "kernelspec": {
   "display_name": "Python 3",
   "language": "python",
   "name": "python3"
  },
  "language_info": {
   "codemirror_mode": {
    "name": "ipython",
    "version": 3
   },
   "file_extension": ".py",
   "mimetype": "text/x-python",
   "name": "python",
   "nbconvert_exporter": "python",
   "pygments_lexer": "ipython3",
   "version": "3.7.4"
  }
 },
 "nbformat": 4,
 "nbformat_minor": 2
}
